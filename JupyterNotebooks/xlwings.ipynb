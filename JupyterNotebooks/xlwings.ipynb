{
 "cells": [
  {
   "cell_type": "markdown",
   "metadata": {},
   "source": [
    "# xlwings"
   ]
  },
  {
   "cell_type": "code",
   "execution_count": 5,
   "metadata": {},
   "outputs": [],
   "source": [
    "# The view function\n",
    "# The view function accepts pretty much any object of interest, whether \n",
    "# that's a number, a string, a nested list or a NumPy array or a pandas \n",
    "# DataFrame. By default, it writes the data into an Excel table in a new \n",
    "# workbook. If you wanted to reuse the same workbook, provide a sheet \n",
    "# object, e.g. view(df, sheet=xw.sheets.active), for further options see\n",
    "# view.\n",
    "\n",
    "import pandas as pd\n",
    "from xlwings import view"
   ]
  },
  {
   "cell_type": "code",
   "execution_count": 6,
   "metadata": {},
   "outputs": [
    {
     "data": {
      "text/html": [
       "<div>\n",
       "<style scoped>\n",
       "    .dataframe tbody tr th:only-of-type {\n",
       "        vertical-align: middle;\n",
       "    }\n",
       "\n",
       "    .dataframe tbody tr th {\n",
       "        vertical-align: top;\n",
       "    }\n",
       "\n",
       "    .dataframe thead th {\n",
       "        text-align: right;\n",
       "    }\n",
       "</style>\n",
       "<table border=\"1\" class=\"dataframe\">\n",
       "  <thead>\n",
       "    <tr style=\"text-align: right;\">\n",
       "      <th></th>\n",
       "      <th>one</th>\n",
       "      <th>two</th>\n",
       "    </tr>\n",
       "  </thead>\n",
       "  <tbody>\n",
       "    <tr>\n",
       "      <th>0</th>\n",
       "      <td>0</td>\n",
       "      <td>5</td>\n",
       "    </tr>\n",
       "    <tr>\n",
       "      <th>1</th>\n",
       "      <td>1</td>\n",
       "      <td>6</td>\n",
       "    </tr>\n",
       "    <tr>\n",
       "      <th>2</th>\n",
       "      <td>2</td>\n",
       "      <td>7</td>\n",
       "    </tr>\n",
       "    <tr>\n",
       "      <th>3</th>\n",
       "      <td>3</td>\n",
       "      <td>8</td>\n",
       "    </tr>\n",
       "    <tr>\n",
       "      <th>4</th>\n",
       "      <td>4</td>\n",
       "      <td>9</td>\n",
       "    </tr>\n",
       "  </tbody>\n",
       "</table>\n",
       "</div>"
      ],
      "text/plain": [
       "   one  two\n",
       "0    0    5\n",
       "1    1    6\n",
       "2    2    7\n",
       "3    3    8\n",
       "4    4    9"
      ]
     },
     "execution_count": 6,
     "metadata": {},
     "output_type": "execute_result"
    }
   ],
   "source": [
    "df = pd.DataFrame(data={'one': [0, 1, 2, 3, 4],\n",
    "                        'two': [5, 6, 7, 8, 9]})\n",
    "df"
   ]
  },
  {
   "cell_type": "code",
   "execution_count": 7,
   "metadata": {},
   "outputs": [],
   "source": [
    "# Changed in version 0.22.0: Earlier versions were not formatting the output \n",
    "# as Excel table\n",
    "view(df)"
   ]
  },
  {
   "cell_type": "code",
   "execution_count": 18,
   "metadata": {},
   "outputs": [],
   "source": [
    "# The load function\n",
    "# To load in a range in an Excel sheet as pandas DataFrame, use the load \n",
    "# function. If you only select one cell, it will auto-expand to cover the \n",
    "# range. If, however, you select a specific range that is bigger than one \n",
    "# cell, it will load in only the selected cells. If the data in Excel does \n",
    "# not have an index or header, set them to False like this: \n",
    "# xw.load(index=False), see also load.\n",
    "\n",
    "from xlwings import load"
   ]
  },
  {
   "cell_type": "code",
   "execution_count": 19,
   "metadata": {},
   "outputs": [
    {
     "ename": "XlwingsError",
     "evalue": "Couldn't find any active App!",
     "output_type": "error",
     "traceback": [
      "\u001b[1;31m---------------------------------------------------------------------------\u001b[0m",
      "\u001b[1;31mXlwingsError\u001b[0m                              Traceback (most recent call last)",
      "Cell \u001b[1;32mIn[19], line 1\u001b[0m\n\u001b[1;32m----> 1\u001b[0m load(\u001b[39m\"\u001b[39;49m\u001b[39mH:\u001b[39;49m\u001b[39m\\\\\u001b[39;49;00m\u001b[39mProjects\u001b[39;49m\u001b[39m\\\\\u001b[39;49;00m\u001b[39mJupyter Notebooks\u001b[39;49m\u001b[39m\\\\\u001b[39;49;00m\u001b[39mExercise Files\u001b[39;49m\u001b[39m\\\\\u001b[39;49;00m\u001b[39mFinal Files\u001b[39;49m\u001b[39m\\\\\u001b[39;49;00m\u001b[39mmodule_01\u001b[39;49m\u001b[39m\\\\\u001b[39;49;00m\u001b[39m01_03_demo\u001b[39;49m\u001b[39m\\\\\u001b[39;49;00m\u001b[39mreturns.xlsx\u001b[39;49m\u001b[39m\"\u001b[39;49m)\n",
      "File \u001b[1;32m~\\AppData\\Roaming\\Python\\Python311\\site-packages\\xlwings\\main.py:4765\u001b[0m, in \u001b[0;36mload\u001b[1;34m(index, header, chunksize)\u001b[0m\n\u001b[0;32m   4732\u001b[0m \u001b[39mdef\u001b[39;00m \u001b[39mload\u001b[39m(index\u001b[39m=\u001b[39m\u001b[39m1\u001b[39m, header\u001b[39m=\u001b[39m\u001b[39m1\u001b[39m, chunksize\u001b[39m=\u001b[39m\u001b[39m5000\u001b[39m):\n\u001b[0;32m   4733\u001b[0m \u001b[39m    \u001b[39m\u001b[39m\"\"\"\u001b[39;00m\n\u001b[0;32m   4734\u001b[0m \u001b[39m    Loads the selected cell(s) of the active workbook into a pandas DataFrame. If you\u001b[39;00m\n\u001b[0;32m   4735\u001b[0m \u001b[39m    select a single cell that has adjacent cells, the range is auto-expanded (via\u001b[39;00m\n\u001b[1;32m   (...)\u001b[0m\n\u001b[0;32m   4763\u001b[0m \u001b[39m    .. versionchanged:: 0.23.1\u001b[39;00m\n\u001b[0;32m   4764\u001b[0m \u001b[39m    \"\"\"\u001b[39;00m\n\u001b[1;32m-> 4765\u001b[0m     selection \u001b[39m=\u001b[39m books\u001b[39m.\u001b[39;49mactive\u001b[39m.\u001b[39mselection\n\u001b[0;32m   4766\u001b[0m     \u001b[39mif\u001b[39;00m selection\u001b[39m.\u001b[39mshape \u001b[39m==\u001b[39m (\u001b[39m1\u001b[39m, \u001b[39m1\u001b[39m):\n\u001b[0;32m   4767\u001b[0m         selection \u001b[39m=\u001b[39m selection\u001b[39m.\u001b[39mcurrent_region\n",
      "File \u001b[1;32m~\\AppData\\Roaming\\Python\\Python311\\site-packages\\xlwings\\main.py:4997\u001b[0m, in \u001b[0;36mBooks.active\u001b[1;34m(self)\u001b[0m\n\u001b[0;32m   4992\u001b[0m \u001b[39m@property\u001b[39m\n\u001b[0;32m   4993\u001b[0m \u001b[39mdef\u001b[39;00m \u001b[39mactive\u001b[39m(\u001b[39mself\u001b[39m):\n\u001b[0;32m   4994\u001b[0m \u001b[39m    \u001b[39m\u001b[39m\"\"\"\u001b[39;00m\n\u001b[0;32m   4995\u001b[0m \u001b[39m    Returns the active Book.\u001b[39;00m\n\u001b[0;32m   4996\u001b[0m \u001b[39m    \"\"\"\u001b[39;00m\n\u001b[1;32m-> 4997\u001b[0m     \u001b[39mreturn\u001b[39;00m Book(impl\u001b[39m=\u001b[39m\u001b[39mself\u001b[39;49m\u001b[39m.\u001b[39;49mimpl\u001b[39m.\u001b[39mactive)\n",
      "File \u001b[1;32m~\\AppData\\Roaming\\Python\\Python311\\site-packages\\xlwings\\main.py:5183\u001b[0m, in \u001b[0;36mActiveAppBooks.impl\u001b[1;34m(self)\u001b[0m\n\u001b[0;32m   5180\u001b[0m \u001b[39m@property\u001b[39m\n\u001b[0;32m   5181\u001b[0m \u001b[39mdef\u001b[39;00m \u001b[39mimpl\u001b[39m(\u001b[39mself\u001b[39m):\n\u001b[0;32m   5182\u001b[0m     \u001b[39mif\u001b[39;00m \u001b[39mnot\u001b[39;00m apps:\n\u001b[1;32m-> 5183\u001b[0m         \u001b[39mraise\u001b[39;00m XlwingsError(\u001b[39m\"\u001b[39m\u001b[39mCouldn\u001b[39m\u001b[39m'\u001b[39m\u001b[39mt find any active App!\u001b[39m\u001b[39m\"\u001b[39m)\n\u001b[0;32m   5184\u001b[0m     \u001b[39mreturn\u001b[39;00m apps\u001b[39m.\u001b[39mactive\u001b[39m.\u001b[39mbooks\u001b[39m.\u001b[39mimpl\n",
      "\u001b[1;31mXlwingsError\u001b[0m: Couldn't find any active App!"
     ]
    }
   ],
   "source": [
    "load(\"H:\\\\Projects\\\\Jupyter Notebooks\\\\Exercise Files\\\\Final Files\\\\module_01\\\\01_03_demo\\\\returns.xlsx\")"
   ]
  }
 ],
 "metadata": {
  "kernelspec": {
   "display_name": "Python 3",
   "language": "python",
   "name": "python3"
  },
  "language_info": {
   "codemirror_mode": {
    "name": "ipython",
    "version": 3
   },
   "file_extension": ".py",
   "mimetype": "text/x-python",
   "name": "python",
   "nbconvert_exporter": "python",
   "pygments_lexer": "ipython3",
   "version": "3.11.0"
  },
  "orig_nbformat": 4
 },
 "nbformat": 4,
 "nbformat_minor": 2
}
