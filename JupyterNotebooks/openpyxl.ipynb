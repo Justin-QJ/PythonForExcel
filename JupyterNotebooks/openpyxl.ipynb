{
 "cells": [
  {
   "cell_type": "markdown",
   "metadata": {},
   "source": [
    "# openpyxl\n",
    "\n",
    "A Python library to read/write Excel 2010 xlsx/xlsm files\n",
    "\n",
    "## Introduction\n",
    "\n",
    "openpyxl is a Python library to read/write Excel 2010 xlsx/xlsm/xltx/xltm files.\n",
    "\n",
    "It was born from lack of existing library to read/write natively from Python the Office Open XML format.\n",
    "\n",
    "All kudos to the PHPExcel team as openpyxl was initially based on PHPExel.\n",
    "\n",
    "## Security\n",
    "\n",
    "By default openpyxl does not guard against quadratic blowup or billion laughs xml attacks. To guard against these attacks intall defusedxml."
   ]
  },
  {
   "cell_type": "code",
   "execution_count": 7,
   "metadata": {},
   "outputs": [],
   "source": [
    "# Sample code\n",
    "\n",
    "from openpyxl import Workbook\n",
    "wb = Workbook()\n",
    "\n",
    "# grab the active worksheet\n",
    "ws = wb.active\n",
    "\n",
    "# Data can be assigned directly to cells\n",
    "ws['A1'] = 42"
   ]
  },
  {
   "cell_type": "code",
   "execution_count": 8,
   "metadata": {},
   "outputs": [],
   "source": [
    "# Rows can also be appended\n",
    "ws.append([1, 2, 3])"
   ]
  },
  {
   "cell_type": "code",
   "execution_count": 9,
   "metadata": {},
   "outputs": [],
   "source": [
    "# Python types will automatically be converted\n",
    "import datetime\n",
    "ws['A2'] = datetime.datetime.now()"
   ]
  },
  {
   "cell_type": "code",
   "execution_count": 10,
   "metadata": {},
   "outputs": [],
   "source": [
    "# Save the file\n",
    "wb.save(r'H:\\Projects\\ExcelPython\\openpyxl-test.xlsx')"
   ]
  },
  {
   "cell_type": "markdown",
   "metadata": {},
   "source": [
    "## Tutorial"
   ]
  },
  {
   "cell_type": "code",
   "execution_count": 11,
   "metadata": {},
   "outputs": [],
   "source": [
    "# Create a workbook\n",
    "# There is no need to create a file on the filesystem to get started with openpyxl.\n",
    "# Justin import the Workbook class and start work\n",
    "\n",
    "from openpyxl import Workbook\n",
    "wb = Workbook()"
   ]
  },
  {
   "cell_type": "code",
   "execution_count": 12,
   "metadata": {},
   "outputs": [],
   "source": [
    "# A workbook is always created with at least one worksheet.\n",
    "# You can get it by using the Workbook.active property\n",
    "\n",
    "ws = wb.active\n",
    "\n",
    "# This is set to 0 by default. Unless you modify its value, \n",
    "# you will always get the first worksheet by using this method."
   ]
  },
  {
   "cell_type": "code",
   "execution_count": 13,
   "metadata": {},
   "outputs": [],
   "source": [
    "# You can create new worksheets using the Workbook.create_sheet() method\n",
    "\n",
    "# insert at the end (default)\n",
    "ws1 = wb.create_sheet(\"Mysheet\")"
   ]
  },
  {
   "cell_type": "code",
   "execution_count": 14,
   "metadata": {},
   "outputs": [],
   "source": [
    "# insert at first position\n",
    "ws2 = wb.create_sheet(\"Mysheet1\", 0)"
   ]
  },
  {
   "cell_type": "code",
   "execution_count": 15,
   "metadata": {},
   "outputs": [],
   "source": [
    "# insert at the penultimate position\n",
    "ws3 = wb.create_sheet(\"Mysheet2\", -1)"
   ]
  },
  {
   "cell_type": "code",
   "execution_count": 16,
   "metadata": {},
   "outputs": [],
   "source": [
    "# Sheets are given a name automatically when they are created.\n",
    "# They are numbered in sequence (Sheet, Sheet1, Sheet2, ...).\n",
    "# You can change this name at any time with the Worksheet.title property\n",
    "\n",
    "ws.title = \"New Title\""
   ]
  },
  {
   "cell_type": "code",
   "execution_count": 17,
   "metadata": {},
   "outputs": [],
   "source": [
    "# Once you gave a worksheet a name, you can get it as a key of the workbook\n",
    "\n",
    "ws3 = wb[\"New Title\"]"
   ]
  },
  {
   "cell_type": "code",
   "execution_count": 18,
   "metadata": {},
   "outputs": [
    {
     "name": "stdout",
     "output_type": "stream",
     "text": [
      "['Mysheet1', 'New Title', 'Mysheet2', 'Mysheet']\n"
     ]
    }
   ],
   "source": [
    "# You can review the names of all worksheets of the workbook with the Workbook.sheetname attribute\n",
    "\n",
    "print(wb.sheetnames)"
   ]
  },
  {
   "cell_type": "code",
   "execution_count": 19,
   "metadata": {},
   "outputs": [
    {
     "name": "stdout",
     "output_type": "stream",
     "text": [
      "Mysheet1\n",
      "New Title\n",
      "Mysheet2\n",
      "Mysheet\n"
     ]
    }
   ],
   "source": [
    "# You can loop through worksheets\n",
    "\n",
    "for sheet in wb:\n",
    "    print(sheet.title)"
   ]
  },
  {
   "cell_type": "code",
   "execution_count": 20,
   "metadata": {},
   "outputs": [],
   "source": [
    "# You can create copies of worksheets within a single workbook\n",
    "# Workbook.copy_worksheet() method\n",
    "\n",
    "source = wb.active\n",
    "target = wb.copy_worksheet(source)"
   ]
  },
  {
   "cell_type": "code",
   "execution_count": 21,
   "metadata": {},
   "outputs": [],
   "source": [
    "wb.save(r'H:\\Projects\\ExcelPython\\openpyxl-test.xlsx')"
   ]
  },
  {
   "cell_type": "code",
   "execution_count": 22,
   "metadata": {},
   "outputs": [],
   "source": [
    "# Playing with data\n",
    "# Accessing one cell\n",
    "# Now we know how to get a worksheet, we can start modifying cells content.\n",
    "#Cells can be accessed directly as keys of the worksheet\n",
    "\n",
    "c = ws['A4']\n",
    "\n",
    "# This will return the cell at A4, or create one if it does not exist yet."
   ]
  },
  {
   "cell_type": "code",
   "execution_count": 23,
   "metadata": {},
   "outputs": [],
   "source": [
    "# Values can be directly assigned\n",
    "\n",
    "ws['A4'] = 4\n",
    "\n",
    "# There is also the Worksheet.cell() method"
   ]
  },
  {
   "cell_type": "code",
   "execution_count": null,
   "metadata": {},
   "outputs": [],
   "source": [
    "# This provides access to cells using row and columns notation\n",
    "\n"
   ]
  },
  {
   "cell_type": "code",
   "execution_count": null,
   "metadata": {},
   "outputs": [],
   "source": []
  },
  {
   "cell_type": "code",
   "execution_count": 1,
   "metadata": {},
   "outputs": [],
   "source": [
    "# Example: Creating a simple spreadsheet and bar chart\n",
    "\n",
    "from openpyxl import Workbook\n",
    "\n",
    "wb = Workbook()\n",
    "ws = wb.active\n",
    "treeData = [\n",
    "    [\"Type\", \"Leaf Color\", \"Height\"], \n",
    "    [\"Maple\", \"Red\", 549], \n",
    "    [\"Oak\", \"Green\", 783], \n",
    "    [\"Pine\", \"Green\", 1204]\n",
    "]\n",
    "\n",
    "for row in treeData:\n",
    "    ws.append(row)\n",
    "\n",
    "from openpyxl.styles import Font\n",
    "\n",
    "ft = Font(bold=True)\n",
    "for row in ws[\"A1:C1\"]:\n",
    "    for cell in row:\n",
    "        cell.font = ft\n",
    "        \n",
    "from openpyxl.chart import BarChart, Series, Reference\n",
    "\n",
    "chart = BarChart()\n",
    "chart.type = \"col\"\n",
    "chart.title = \"Tree Height\"\n",
    "chart.y_axis.title = 'Height (cm)'\n",
    "chart.x_axis.title = 'Tree Type'\n",
    "chart.legend = None\n",
    "\n",
    "data = Reference(ws, min_col=3, min_row=2, max_row=4, max_col=3)\n",
    "categories = Reference(ws, min_col=1, min_row=2, max_row=4, max_col=1)\n",
    "\n",
    "chart.add_data(data)\n",
    "chart.set_categories(categories)\n",
    "\n",
    "ws.add_chart(chart, \"E1\")\n",
    "wb.save(\"TreeData.xlsx\")"
   ]
  }
 ],
 "metadata": {
  "kernelspec": {
   "display_name": "Python 3.11.0 64-bit",
   "language": "python",
   "name": "python3"
  },
  "language_info": {
   "codemirror_mode": {
    "name": "ipython",
    "version": 3
   },
   "file_extension": ".py",
   "mimetype": "text/x-python",
   "name": "python",
   "nbconvert_exporter": "python",
   "pygments_lexer": "ipython3",
   "version": "3.12.1"
  },
  "orig_nbformat": 4,
  "vscode": {
   "interpreter": {
    "hash": "1cd0f3bc60b26526d5fb364e6dc582bcbd1d2808e8f020a367cb16b7dd6bbbab"
   }
  }
 },
 "nbformat": 4,
 "nbformat_minor": 2
}
