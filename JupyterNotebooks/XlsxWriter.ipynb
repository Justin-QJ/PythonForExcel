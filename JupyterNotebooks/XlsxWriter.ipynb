{
 "cells": [
  {
   "cell_type": "markdown",
   "metadata": {},
   "source": []
  },
  {
   "cell_type": "code",
   "execution_count": 1,
   "metadata": {},
   "outputs": [],
   "source": [
    "# Example: Hello World\n",
    "##############################################################################\n",
    "#\n",
    "# A hello world spreadsheet using the XlsxWriter Python module.\n",
    "#\n",
    "# SPDX-License-Identifier: BSD-2-Clause\n",
    "# Copyright 2013-2023, John McNamara, jmcnamara@cpan.org\n",
    "#\n",
    "import xlsxwriter\n",
    "\n",
    "workbook = xlsxwriter.Workbook(\"hello_world.xlsx\")\n",
    "worksheet = workbook.add_worksheet()\n",
    "\n",
    "worksheet.write(\"A1\", \"Hello world\")\n",
    "\n",
    "workbook.close()"
   ]
  },
  {
   "cell_type": "code",
   "execution_count": null,
   "metadata": {},
   "outputs": [],
   "source": [
    "# Example: Simple Feature Demonstration\n",
    "##############################################################################\n",
    "#\n",
    "# A simple example of some of the features of the XlsxWriter Python module.\n",
    "#\n",
    "# SPDX-License-Identifier: BSD-2-Clause\n",
    "# Copyright 2013-2023, John McNamara, jmcnamara@cpan.org\n",
    "#\n",
    "import xlsxwriter\n",
    "\n",
    "\n",
    "# Create an new Excel file and add a worksheet.\n",
    "workbook = xlsxwriter.Workbook(\"demo.xlsx\")\n",
    "worksheet = workbook.add_worksheet()\n",
    "\n",
    "# Widen the first column to make the text clearer.\n",
    "worksheet.set_column(\"A:A\", 20)\n",
    "\n",
    "# Add a bold format to use to highlight cells.\n",
    "bold = workbook.add_format({\"bold\": True})\n",
    "\n",
    "# Write some simple text.\n",
    "worksheet.write(\"A1\", \"Hello\")\n",
    "\n",
    "# Text with formatting.\n",
    "worksheet.write(\"A2\", \"World\", bold)\n",
    "\n",
    "# Write some numbers, with row/column notation.\n",
    "worksheet.write(2, 0, 123)\n",
    "worksheet.write(3, 0, 123.456)\n",
    "\n",
    "# Insert an image.\n",
    "worksheet.insert_image(\"B5\", \"python-logo.png\")\n",
    "\n",
    "workbook.close()"
   ]
  }
 ],
 "metadata": {
  "kernelspec": {
   "display_name": "Python 3.11.0 64-bit",
   "language": "python",
   "name": "python3"
  },
  "language_info": {
   "codemirror_mode": {
    "name": "ipython",
    "version": 3
   },
   "file_extension": ".py",
   "mimetype": "text/x-python",
   "name": "python",
   "nbconvert_exporter": "python",
   "pygments_lexer": "ipython3",
   "version": "3.11.0"
  },
  "orig_nbformat": 4,
  "vscode": {
   "interpreter": {
    "hash": "1cd0f3bc60b26526d5fb364e6dc582bcbd1d2808e8f020a367cb16b7dd6bbbab"
   }
  }
 },
 "nbformat": 4,
 "nbformat_minor": 2
}
