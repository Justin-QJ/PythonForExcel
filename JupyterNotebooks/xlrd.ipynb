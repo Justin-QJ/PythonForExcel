{
 "cells": [
  {
   "cell_type": "markdown",
   "metadata": {},
   "source": [
    "# xlrd\n",
    "\n",
    "xlrd is a library for reading data and formatting information from Excel files in the historical `.xls` format.\n",
    "\n",
    "This library will no longer read anything other than `.xls` files."
   ]
  },
  {
   "cell_type": "code",
   "execution_count": 14,
   "metadata": {},
   "outputs": [
    {
     "name": "stdout",
     "output_type": "stream",
     "text": [
      "The number of worksheets is 6\n",
      "Worksheet name(s): ['1', '2', '3', '4', '5', '6']\n",
      "1 31 2\n"
     ]
    },
    {
     "ename": "IndexError",
     "evalue": "list index out of range",
     "output_type": "error",
     "traceback": [
      "\u001b[1;31m---------------------------------------------------------------------------\u001b[0m",
      "\u001b[1;31mIndexError\u001b[0m                                Traceback (most recent call last)",
      "Cell \u001b[1;32mIn[14], line 7\u001b[0m\n\u001b[0;32m      5\u001b[0m sh \u001b[39m=\u001b[39m book\u001b[39m.\u001b[39msheet_by_index(\u001b[39m0\u001b[39m)\n\u001b[0;32m      6\u001b[0m \u001b[39mprint\u001b[39m(\u001b[39m\"\u001b[39m\u001b[39m{0}\u001b[39;00m\u001b[39m \u001b[39m\u001b[39m{1}\u001b[39;00m\u001b[39m \u001b[39m\u001b[39m{2}\u001b[39;00m\u001b[39m\"\u001b[39m\u001b[39m.\u001b[39mformat(sh\u001b[39m.\u001b[39mname, sh\u001b[39m.\u001b[39mnrows, sh\u001b[39m.\u001b[39mncols))\n\u001b[1;32m----> 7\u001b[0m \u001b[39mprint\u001b[39m(\u001b[39m\"\u001b[39m\u001b[39mCell D30 is \u001b[39m\u001b[39m{0}\u001b[39;00m\u001b[39m\"\u001b[39m\u001b[39m.\u001b[39mformat(sh\u001b[39m.\u001b[39;49mcell_value(rowx\u001b[39m=\u001b[39;49m\u001b[39m29\u001b[39;49m, colx\u001b[39m=\u001b[39;49m\u001b[39m3\u001b[39;49m)))\n\u001b[0;32m      8\u001b[0m \u001b[39mfor\u001b[39;00m rx \u001b[39min\u001b[39;00m \u001b[39mrange\u001b[39m(sh\u001b[39m.\u001b[39mnrows):\n\u001b[0;32m      9\u001b[0m     \u001b[39mprint\u001b[39m(sh\u001b[39m.\u001b[39mrow(rx))\n",
      "File \u001b[1;32m~\\AppData\\Roaming\\Python\\Python311\\site-packages\\xlrd\\sheet.py:420\u001b[0m, in \u001b[0;36mSheet.cell_value\u001b[1;34m(self, rowx, colx)\u001b[0m\n\u001b[0;32m    418\u001b[0m \u001b[39mdef\u001b[39;00m \u001b[39mcell_value\u001b[39m(\u001b[39mself\u001b[39m, rowx, colx):\n\u001b[0;32m    419\u001b[0m     \u001b[39m\"\u001b[39m\u001b[39mValue of the cell in the given row and column.\u001b[39m\u001b[39m\"\u001b[39m\n\u001b[1;32m--> 420\u001b[0m     \u001b[39mreturn\u001b[39;00m \u001b[39mself\u001b[39;49m\u001b[39m.\u001b[39;49m_cell_values[rowx][colx]\n",
      "\u001b[1;31mIndexError\u001b[0m: list index out of range"
     ]
    }
   ],
   "source": [
    "import xlrd\n",
    "book = xlrd.open_workbook(\"I:\\\\Programming\\\\Exercise Files\\\\Python\\\\returns.xls\")\n",
    "print(\"The number of worksheets is {0}\".format(book.nsheets))\n",
    "print(\"Worksheet name(s): {0}\".format(book.sheet_names()))\n",
    "sh = book.sheet_by_index(0)\n",
    "print(\"{0} {1} {2}\".format(sh.name, sh.nrows, sh.ncols))\n",
    "print(\"Cell D30 is {0}\".format(sh.cell_value(rowx=29, colx=3)))\n",
    "for rx in range(sh.nrows):\n",
    "    print(sh.row(rx))"
   ]
  },
  {
   "cell_type": "code",
   "execution_count": null,
   "metadata": {},
   "outputs": [],
   "source": []
  }
 ],
 "metadata": {
  "kernelspec": {
   "display_name": "Python 3",
   "language": "python",
   "name": "python3"
  },
  "language_info": {
   "codemirror_mode": {
    "name": "ipython",
    "version": 3
   },
   "file_extension": ".py",
   "mimetype": "text/x-python",
   "name": "python",
   "nbconvert_exporter": "python",
   "pygments_lexer": "ipython3",
   "version": "3.11.0"
  },
  "orig_nbformat": 4
 },
 "nbformat": 4,
 "nbformat_minor": 2
}
