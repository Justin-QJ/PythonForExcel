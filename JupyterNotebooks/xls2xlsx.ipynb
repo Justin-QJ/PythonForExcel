{
 "cells": [
  {
   "cell_type": "markdown",
   "metadata": {},
   "source": [
    "# xls2xlsx\n",
    "\n",
    "## Features\n",
    "\n",
    "- Convert `.xls` files to `.xlsx` files using xlrd and openpyxl.\n",
    "- Convert `.htm` and `.mht` files containing tables or excel contents to `.xlsx` using beautifulsoup4 and openpyxl."
   ]
  },
  {
   "cell_type": "code",
   "execution_count": 1,
   "metadata": {},
   "outputs": [
    {
     "data": {
      "text/plain": [
       "'D:\\\\Projects\\\\ExcelPython\\\\test\\\\test.xlsx'"
      ]
     },
     "execution_count": 1,
     "metadata": {},
     "output_type": "execute_result"
    }
   ],
   "source": [
    "## Usage\n",
    "\n",
    "# sample 1\n",
    "from xls2xlsx import XLS2XLSX\n",
    "x2x = XLS2XLSX(r'D:\\Projects\\ExcelPython\\test\\1.xls')\n",
    "x2x.to_xlsx(r'D:\\Projects\\ExcelPython\\test\\test.xlsx')"
   ]
  },
  {
   "cell_type": "code",
   "execution_count": 5,
   "metadata": {},
   "outputs": [],
   "source": [
    "# sample 2\n",
    "from xls2xlsx import XLS2XLSX\n",
    "x2x = XLS2XLSX(r'D:\\Projects\\ExcelPython\\test\\1.xls')\n",
    "wb = x2x.to_xlsx()\n",
    "\n",
    "# The xls2xlsx.to_xlsx method returns the filename given. If no filename is provided, the method returns the openpyxl workbook."
   ]
  }
 ],
 "metadata": {
  "kernelspec": {
   "display_name": "Python 3.12.0 ('excel')",
   "language": "python",
   "name": "python3"
  },
  "language_info": {
   "codemirror_mode": {
    "name": "ipython",
    "version": 3
   },
   "file_extension": ".py",
   "mimetype": "text/x-python",
   "name": "python",
   "nbconvert_exporter": "python",
   "pygments_lexer": "ipython3",
   "version": "3.12.0"
  },
  "orig_nbformat": 4,
  "vscode": {
   "interpreter": {
    "hash": "bed1a202bc2852ff464ba435f886d37f9a8e0ea96b81153f2d3914605eb0dd48"
   }
  }
 },
 "nbformat": 4,
 "nbformat_minor": 2
}
