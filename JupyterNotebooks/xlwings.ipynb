{
 "cells": [
  {
   "cell_type": "markdown",
   "metadata": {},
   "source": [
    "# xlwings"
   ]
  },
  {
   "cell_type": "markdown",
   "metadata": {},
   "source": [
    "## Quickstart\n",
    "\n"
   ]
  },
  {
   "cell_type": "code",
   "execution_count": 20,
   "metadata": {},
   "outputs": [],
   "source": [
    "# Scripting: Automate/interact with Excel from Python\n",
    "# Establish a connection to a workbook\n",
    "\n",
    "import xlwings as xw\n",
    "\n",
    "# this will open a new workbook\n",
    "wb = xw.Book() "
   ]
  },
  {
   "cell_type": "code",
   "execution_count": 38,
   "metadata": {},
   "outputs": [],
   "source": [
    "# connect to a file that is open or in the current working directory\n",
    "wb = xw.Book('test.xlsx')"
   ]
  },
  {
   "cell_type": "code",
   "execution_count": 23,
   "metadata": {},
   "outputs": [],
   "source": [
    "# on Windows: use raw strings to escape backslashes\n",
    "wb = xw.Book(r'H:\\Projects\\Jupyter Notebooks\\Exercise Files\\Final Files\\module_01\\01_03_demo\\returns.xlsx')\n",
    "# r为raw的首字母，后无空格"
   ]
  },
  {
   "cell_type": "code",
   "execution_count": 25,
   "metadata": {},
   "outputs": [
    {
     "ename": "KeyError",
     "evalue": "'Could not find an Excel instance with this PID.'",
     "output_type": "error",
     "traceback": [
      "\u001b[1;31m---------------------------------------------------------------------------\u001b[0m",
      "\u001b[1;31mKeyError\u001b[0m                                  Traceback (most recent call last)",
      "Cell \u001b[1;32mIn[25], line 4\u001b[0m\n\u001b[0;32m      1\u001b[0m \u001b[39m# If you have the same file open in two instances of Excel, you need to \u001b[39;00m\n\u001b[0;32m      2\u001b[0m \u001b[39m# fully qualify it and include the app instance. You will find your app \u001b[39;00m\n\u001b[0;32m      3\u001b[0m \u001b[39m# instance key (the PID) via xw.app.keys()\u001b[39;00m\n\u001b[1;32m----> 4\u001b[0m xw\u001b[39m.\u001b[39;49mapps[\u001b[39m10559\u001b[39;49m]\u001b[39m.\u001b[39mbooks[\u001b[39m'\u001b[39m\u001b[39mtest.xlsx\u001b[39m\u001b[39m'\u001b[39m]\n",
      "File \u001b[1;32m~\\AppData\\Roaming\\Python\\Python311\\site-packages\\xlwings\\main.py:232\u001b[0m, in \u001b[0;36mApps.__getitem__\u001b[1;34m(self, item)\u001b[0m\n\u001b[0;32m    231\u001b[0m \u001b[39mdef\u001b[39;00m \u001b[39m__getitem__\u001b[39m(\u001b[39mself\u001b[39m, item):\n\u001b[1;32m--> 232\u001b[0m     \u001b[39mreturn\u001b[39;00m App(impl\u001b[39m=\u001b[39m\u001b[39mself\u001b[39;49m\u001b[39m.\u001b[39;49mimpl[item])\n",
      "File \u001b[1;32m~\\AppData\\Roaming\\Python\\Python311\\site-packages\\xlwings\\_xlwindows.py:552\u001b[0m, in \u001b[0;36mApps.__getitem__\u001b[1;34m(self, pid)\u001b[0m\n\u001b[0;32m    550\u001b[0m     \u001b[39mif\u001b[39;00m app\u001b[39m.\u001b[39mpid \u001b[39m==\u001b[39m pid:\n\u001b[0;32m    551\u001b[0m         \u001b[39mreturn\u001b[39;00m app\n\u001b[1;32m--> 552\u001b[0m \u001b[39mraise\u001b[39;00m \u001b[39mKeyError\u001b[39;00m(\u001b[39m\"\u001b[39m\u001b[39mCould not find an Excel instance with this PID.\u001b[39m\u001b[39m\"\u001b[39m)\n",
      "\u001b[1;31mKeyError\u001b[0m: 'Could not find an Excel instance with this PID.'"
     ]
    }
   ],
   "source": [
    "# If you have the same file open in two instances of Excel, you need to \n",
    "# fully qualify it and include the app instance. You will find your app \n",
    "# instance key (the PID) via xw.app.keys()\n",
    "xw.apps[10559].books['test.xlsx']"
   ]
  },
  {
   "cell_type": "code",
   "execution_count": 28,
   "metadata": {},
   "outputs": [],
   "source": [
    "# Instantiate a sheet object\n",
    "\n",
    "sheet = wb.sheets['Sheet1']"
   ]
  },
  {
   "cell_type": "code",
   "execution_count": 29,
   "metadata": {},
   "outputs": [],
   "source": [
    "# Reading/writing values to/from ranges is as easy as\n",
    "\n",
    "sheet['A1'].value = 'Foo 1'"
   ]
  },
  {
   "cell_type": "code",
   "execution_count": 30,
   "metadata": {},
   "outputs": [
    {
     "data": {
      "text/plain": [
       "'Foo 1'"
      ]
     },
     "execution_count": 30,
     "metadata": {},
     "output_type": "execute_result"
    }
   ],
   "source": [
    "sheet['A1'].value"
   ]
  },
  {
   "cell_type": "code",
   "execution_count": 31,
   "metadata": {},
   "outputs": [],
   "source": [
    "# There are many convenience features available, e.g. Range expanding\n",
    "\n",
    "sheet['A1'].value = [['Foo 1', 'Foo 2', 'Foo 3'],\n",
    "                     [10.0, 20.0, 30.0]]"
   ]
  },
  {
   "cell_type": "code",
   "execution_count": 32,
   "metadata": {},
   "outputs": [
    {
     "data": {
      "text/plain": [
       "[['Foo 1', 'Foo 2', 'Foo 3'], [10.0, 20.0, 30.0]]"
      ]
     },
     "execution_count": 32,
     "metadata": {},
     "output_type": "execute_result"
    }
   ],
   "source": [
    "sheet['A1'].expand().value"
   ]
  },
  {
   "cell_type": "code",
   "execution_count": 36,
   "metadata": {},
   "outputs": [
    {
     "ename": "ValueError",
     "evalue": "Shape of passed values is (2, 1), indices imply (2, 2)",
     "output_type": "error",
     "traceback": [
      "\u001b[1;31m---------------------------------------------------------------------------\u001b[0m",
      "\u001b[1;31mValueError\u001b[0m                                Traceback (most recent call last)",
      "Cell \u001b[1;32mIn[36], line 5\u001b[0m\n\u001b[0;32m      1\u001b[0m \u001b[39m# Powerful converters handle most data types of interest, including\u001b[39;00m\n\u001b[0;32m      2\u001b[0m \u001b[39m# NumPy arrays and Pandas DataFrames in both directions\u001b[39;00m\n\u001b[0;32m      4\u001b[0m \u001b[39mimport\u001b[39;00m \u001b[39mpandas\u001b[39;00m \u001b[39mas\u001b[39;00m \u001b[39mpd\u001b[39;00m\n\u001b[1;32m----> 5\u001b[0m df \u001b[39m=\u001b[39m pd\u001b[39m.\u001b[39;49mDataFrame([\u001b[39m1\u001b[39;49m, \u001b[39m2\u001b[39;49m], [\u001b[39m3\u001b[39;49m, \u001b[39m4\u001b[39;49m], columns\u001b[39m=\u001b[39;49m[\u001b[39m'\u001b[39;49m\u001b[39ma\u001b[39;49m\u001b[39m'\u001b[39;49m, \u001b[39m'\u001b[39;49m\u001b[39mb\u001b[39;49m\u001b[39m'\u001b[39;49m])\n\u001b[0;32m      6\u001b[0m sheet[\u001b[39m'\u001b[39m\u001b[39mA1\u001b[39m\u001b[39m'\u001b[39m]\u001b[39m.\u001b[39mvalue \u001b[39m=\u001b[39m df\n",
      "File \u001b[1;32m~\\AppData\\Roaming\\Python\\Python311\\site-packages\\pandas\\core\\frame.py:822\u001b[0m, in \u001b[0;36mDataFrame.__init__\u001b[1;34m(self, data, index, columns, dtype, copy)\u001b[0m\n\u001b[0;32m    814\u001b[0m         mgr \u001b[39m=\u001b[39m arrays_to_mgr(\n\u001b[0;32m    815\u001b[0m             arrays,\n\u001b[0;32m    816\u001b[0m             columns,\n\u001b[1;32m   (...)\u001b[0m\n\u001b[0;32m    819\u001b[0m             typ\u001b[39m=\u001b[39mmanager,\n\u001b[0;32m    820\u001b[0m         )\n\u001b[0;32m    821\u001b[0m     \u001b[39melse\u001b[39;00m:\n\u001b[1;32m--> 822\u001b[0m         mgr \u001b[39m=\u001b[39m ndarray_to_mgr(\n\u001b[0;32m    823\u001b[0m             data,\n\u001b[0;32m    824\u001b[0m             index,\n\u001b[0;32m    825\u001b[0m             columns,\n\u001b[0;32m    826\u001b[0m             dtype\u001b[39m=\u001b[39;49mdtype,\n\u001b[0;32m    827\u001b[0m             copy\u001b[39m=\u001b[39;49mcopy,\n\u001b[0;32m    828\u001b[0m             typ\u001b[39m=\u001b[39;49mmanager,\n\u001b[0;32m    829\u001b[0m         )\n\u001b[0;32m    830\u001b[0m \u001b[39melse\u001b[39;00m:\n\u001b[0;32m    831\u001b[0m     mgr \u001b[39m=\u001b[39m dict_to_mgr(\n\u001b[0;32m    832\u001b[0m         {},\n\u001b[0;32m    833\u001b[0m         index,\n\u001b[1;32m   (...)\u001b[0m\n\u001b[0;32m    836\u001b[0m         typ\u001b[39m=\u001b[39mmanager,\n\u001b[0;32m    837\u001b[0m     )\n",
      "File \u001b[1;32m~\\AppData\\Roaming\\Python\\Python311\\site-packages\\pandas\\core\\internals\\construction.py:336\u001b[0m, in \u001b[0;36mndarray_to_mgr\u001b[1;34m(values, index, columns, dtype, copy, typ)\u001b[0m\n\u001b[0;32m    331\u001b[0m \u001b[39m# _prep_ndarraylike ensures that values.ndim == 2 at this point\u001b[39;00m\n\u001b[0;32m    332\u001b[0m index, columns \u001b[39m=\u001b[39m _get_axes(\n\u001b[0;32m    333\u001b[0m     values\u001b[39m.\u001b[39mshape[\u001b[39m0\u001b[39m], values\u001b[39m.\u001b[39mshape[\u001b[39m1\u001b[39m], index\u001b[39m=\u001b[39mindex, columns\u001b[39m=\u001b[39mcolumns\n\u001b[0;32m    334\u001b[0m )\n\u001b[1;32m--> 336\u001b[0m _check_values_indices_shape_match(values, index, columns)\n\u001b[0;32m    338\u001b[0m \u001b[39mif\u001b[39;00m typ \u001b[39m==\u001b[39m \u001b[39m\"\u001b[39m\u001b[39marray\u001b[39m\u001b[39m\"\u001b[39m:\n\u001b[0;32m    339\u001b[0m     \u001b[39mif\u001b[39;00m \u001b[39missubclass\u001b[39m(values\u001b[39m.\u001b[39mdtype\u001b[39m.\u001b[39mtype, \u001b[39mstr\u001b[39m):\n",
      "File \u001b[1;32m~\\AppData\\Roaming\\Python\\Python311\\site-packages\\pandas\\core\\internals\\construction.py:420\u001b[0m, in \u001b[0;36m_check_values_indices_shape_match\u001b[1;34m(values, index, columns)\u001b[0m\n\u001b[0;32m    418\u001b[0m passed \u001b[39m=\u001b[39m values\u001b[39m.\u001b[39mshape\n\u001b[0;32m    419\u001b[0m implied \u001b[39m=\u001b[39m (\u001b[39mlen\u001b[39m(index), \u001b[39mlen\u001b[39m(columns))\n\u001b[1;32m--> 420\u001b[0m \u001b[39mraise\u001b[39;00m \u001b[39mValueError\u001b[39;00m(\u001b[39mf\u001b[39m\u001b[39m\"\u001b[39m\u001b[39mShape of passed values is \u001b[39m\u001b[39m{\u001b[39;00mpassed\u001b[39m}\u001b[39;00m\u001b[39m, indices imply \u001b[39m\u001b[39m{\u001b[39;00mimplied\u001b[39m}\u001b[39;00m\u001b[39m\"\u001b[39m)\n",
      "\u001b[1;31mValueError\u001b[0m: Shape of passed values is (2, 1), indices imply (2, 2)"
     ]
    }
   ],
   "source": [
    "# Powerful converters handle most data types of interest, including\n",
    "# NumPy arrays and Pandas DataFrames in both directions\n",
    "\n",
    "import pandas as pd\n",
    "df = pd.DataFrame([1, 2], [3, 4], columns=['a', 'b'])\n",
    "sheet['A1'].value = df"
   ]
  },
  {
   "cell_type": "code",
   "execution_count": 39,
   "metadata": {},
   "outputs": [
    {
     "data": {
      "text/html": [
       "<div>\n",
       "<style scoped>\n",
       "    .dataframe tbody tr th:only-of-type {\n",
       "        vertical-align: middle;\n",
       "    }\n",
       "\n",
       "    .dataframe tbody tr th {\n",
       "        vertical-align: top;\n",
       "    }\n",
       "\n",
       "    .dataframe thead th {\n",
       "        text-align: right;\n",
       "    }\n",
       "</style>\n",
       "<table border=\"1\" class=\"dataframe\">\n",
       "  <thead>\n",
       "    <tr style=\"text-align: right;\">\n",
       "      <th></th>\n",
       "      <th>Foo 2</th>\n",
       "      <th>Foo 3</th>\n",
       "    </tr>\n",
       "    <tr>\n",
       "      <th>Foo 1</th>\n",
       "      <th></th>\n",
       "      <th></th>\n",
       "    </tr>\n",
       "  </thead>\n",
       "  <tbody>\n",
       "    <tr>\n",
       "      <th>10.0</th>\n",
       "      <td>20.0</td>\n",
       "      <td>30.0</td>\n",
       "    </tr>\n",
       "  </tbody>\n",
       "</table>\n",
       "</div>"
      ],
      "text/plain": [
       "       Foo 2  Foo 3\n",
       "Foo 1              \n",
       "10.0    20.0   30.0"
      ]
     },
     "execution_count": 39,
     "metadata": {},
     "output_type": "execute_result"
    }
   ],
   "source": [
    "sheet['A1'].options(pd.DataFrame, expand='table').value"
   ]
  },
  {
   "cell_type": "code",
   "execution_count": null,
   "metadata": {},
   "outputs": [],
   "source": [
    "# Matplotlib figures can be shown as pictures in Excel\n",
    "\n",
    "import matplotlib.pyplot as plt\n",
    "fig = plt.figure()\n",
    "plt.plot([1, 2, 3, 4, 5])"
   ]
  },
  {
   "cell_type": "code",
   "execution_count": 50,
   "metadata": {},
   "outputs": [
    {
     "ename": "TypeError",
     "evalue": "Don't know what to do with that image object",
     "output_type": "error",
     "traceback": [
      "\u001b[1;31m---------------------------------------------------------------------------\u001b[0m",
      "\u001b[1;31mTypeError\u001b[0m                                 Traceback (most recent call last)",
      "Cell \u001b[1;32mIn[50], line 4\u001b[0m\n\u001b[0;32m      2\u001b[0m wb \u001b[39m=\u001b[39m xw\u001b[39m.\u001b[39mBook(\u001b[39m'\u001b[39m\u001b[39mtest.xlsx\u001b[39m\u001b[39m'\u001b[39m)\n\u001b[0;32m      3\u001b[0m sheet \u001b[39m=\u001b[39m wb\u001b[39m.\u001b[39msheets[\u001b[39m'\u001b[39m\u001b[39mSheet1\u001b[39m\u001b[39m'\u001b[39m]\n\u001b[1;32m----> 4\u001b[0m sheet\u001b[39m.\u001b[39;49mpictures\u001b[39m.\u001b[39;49madd(fig, name\u001b[39m=\u001b[39;49m\u001b[39m'\u001b[39;49m\u001b[39mMyPlot\u001b[39;49m\u001b[39m'\u001b[39;49m, update\u001b[39m=\u001b[39;49m\u001b[39mTrue\u001b[39;49;00m)\n",
      "File \u001b[1;32m~\\AppData\\Roaming\\Python\\Python311\\site-packages\\xlwings\\main.py:4419\u001b[0m, in \u001b[0;36mPictures.add\u001b[1;34m(self, image, link_to_file, save_with_document, left, top, width, height, name, update, scale, format, anchor, export_options)\u001b[0m\n\u001b[0;32m   4414\u001b[0m \u001b[39mif\u001b[39;00m name \u001b[39mand\u001b[39;00m name \u001b[39min\u001b[39;00m \u001b[39mself\u001b[39m\u001b[39m.\u001b[39mparent\u001b[39m.\u001b[39mpictures:\n\u001b[0;32m   4415\u001b[0m     \u001b[39mraise\u001b[39;00m ShapeAlreadyExists(\n\u001b[0;32m   4416\u001b[0m         \u001b[39mf\u001b[39m\u001b[39m\"\u001b[39m\u001b[39m'\u001b[39m\u001b[39m{\u001b[39;00mname\u001b[39m}\u001b[39;00m\u001b[39m'\u001b[39m\u001b[39m is already present on \u001b[39m\u001b[39m{\u001b[39;00m\u001b[39mself\u001b[39m\u001b[39m.\u001b[39mparent\u001b[39m.\u001b[39mname\u001b[39m}\u001b[39;00m\u001b[39m.\u001b[39m\u001b[39m\"\u001b[39m\n\u001b[0;32m   4417\u001b[0m     )\n\u001b[1;32m-> 4419\u001b[0m filename, is_temp_file \u001b[39m=\u001b[39m utils\u001b[39m.\u001b[39;49mprocess_image(\n\u001b[0;32m   4420\u001b[0m     image,\n\u001b[0;32m   4421\u001b[0m     \u001b[39mformat\u001b[39;49m\u001b[39m=\u001b[39;49m\u001b[39m\"\u001b[39;49m\u001b[39mpng\u001b[39;49m\u001b[39m\"\u001b[39;49m \u001b[39mif\u001b[39;49;00m \u001b[39mnot\u001b[39;49;00m \u001b[39mformat\u001b[39;49m \u001b[39melse\u001b[39;49;00m \u001b[39mformat\u001b[39;49m,\n\u001b[0;32m   4422\u001b[0m     export_options\u001b[39m=\u001b[39;49mexport_options,\n\u001b[0;32m   4423\u001b[0m )\n\u001b[0;32m   4425\u001b[0m \u001b[39mif\u001b[39;00m \u001b[39mnot\u001b[39;00m (link_to_file \u001b[39mor\u001b[39;00m save_with_document):\n\u001b[0;32m   4426\u001b[0m     \u001b[39mraise\u001b[39;00m \u001b[39mException\u001b[39;00m(\n\u001b[0;32m   4427\u001b[0m         \u001b[39m\"\u001b[39m\u001b[39mArguments link_to_file and save_with_document cannot both be false\u001b[39m\u001b[39m\"\u001b[39m\n\u001b[0;32m   4428\u001b[0m     )\n",
      "File \u001b[1;32m~\\AppData\\Roaming\\Python\\Python311\\site-packages\\xlwings\\utils.py:299\u001b[0m, in \u001b[0;36mprocess_image\u001b[1;34m(image, format, export_options)\u001b[0m\n\u001b[0;32m    297\u001b[0m     image_type \u001b[39m=\u001b[39m \u001b[39m\"\u001b[39m\u001b[39mplotly\u001b[39m\u001b[39m\"\u001b[39m\n\u001b[0;32m    298\u001b[0m \u001b[39melse\u001b[39;00m:\n\u001b[1;32m--> 299\u001b[0m     \u001b[39mraise\u001b[39;00m \u001b[39mTypeError\u001b[39;00m(\u001b[39m\"\u001b[39m\u001b[39mDon\u001b[39m\u001b[39m'\u001b[39m\u001b[39mt know what to do with that image object\u001b[39m\u001b[39m\"\u001b[39m)\n\u001b[0;32m    301\u001b[0m \u001b[39mif\u001b[39;00m export_options \u001b[39mis\u001b[39;00m \u001b[39mNone\u001b[39;00m:\n\u001b[0;32m    302\u001b[0m     export_options \u001b[39m=\u001b[39m {\u001b[39m\"\u001b[39m\u001b[39mbbox_inches\u001b[39m\u001b[39m\"\u001b[39m: \u001b[39m\"\u001b[39m\u001b[39mtight\u001b[39m\u001b[39m\"\u001b[39m, \u001b[39m\"\u001b[39m\u001b[39mdpi\u001b[39m\u001b[39m\"\u001b[39m: \u001b[39m200\u001b[39m}\n",
      "\u001b[1;31mTypeError\u001b[0m: Don't know what to do with that image object"
     ]
    }
   ],
   "source": [
    "import xlwings as xw\n",
    "wb = xw.Book('test.xlsx')\n",
    "sheet = wb.sheets['Sheet1']\n",
    "sheet.pictures.add(fig, name='MyPlot', update=True)"
   ]
  },
  {
   "cell_type": "code",
   "execution_count": 5,
   "metadata": {},
   "outputs": [],
   "source": [
    "# The view function\n",
    "# The view function accepts pretty much any object of interest, whether \n",
    "# that's a number, a string, a nested list or a NumPy array or a pandas \n",
    "# DataFrame. By default, it writes the data into an Excel table in a new \n",
    "# workbook. If you wanted to reuse the same workbook, provide a sheet \n",
    "# object, e.g. view(df, sheet=xw.sheets.active), for further options see\n",
    "# view.\n",
    "\n",
    "import pandas as pd\n",
    "from xlwings import view"
   ]
  },
  {
   "cell_type": "code",
   "execution_count": 6,
   "metadata": {},
   "outputs": [
    {
     "data": {
      "text/html": [
       "<div>\n",
       "<style scoped>\n",
       "    .dataframe tbody tr th:only-of-type {\n",
       "        vertical-align: middle;\n",
       "    }\n",
       "\n",
       "    .dataframe tbody tr th {\n",
       "        vertical-align: top;\n",
       "    }\n",
       "\n",
       "    .dataframe thead th {\n",
       "        text-align: right;\n",
       "    }\n",
       "</style>\n",
       "<table border=\"1\" class=\"dataframe\">\n",
       "  <thead>\n",
       "    <tr style=\"text-align: right;\">\n",
       "      <th></th>\n",
       "      <th>one</th>\n",
       "      <th>two</th>\n",
       "    </tr>\n",
       "  </thead>\n",
       "  <tbody>\n",
       "    <tr>\n",
       "      <th>0</th>\n",
       "      <td>0</td>\n",
       "      <td>5</td>\n",
       "    </tr>\n",
       "    <tr>\n",
       "      <th>1</th>\n",
       "      <td>1</td>\n",
       "      <td>6</td>\n",
       "    </tr>\n",
       "    <tr>\n",
       "      <th>2</th>\n",
       "      <td>2</td>\n",
       "      <td>7</td>\n",
       "    </tr>\n",
       "    <tr>\n",
       "      <th>3</th>\n",
       "      <td>3</td>\n",
       "      <td>8</td>\n",
       "    </tr>\n",
       "    <tr>\n",
       "      <th>4</th>\n",
       "      <td>4</td>\n",
       "      <td>9</td>\n",
       "    </tr>\n",
       "  </tbody>\n",
       "</table>\n",
       "</div>"
      ],
      "text/plain": [
       "   one  two\n",
       "0    0    5\n",
       "1    1    6\n",
       "2    2    7\n",
       "3    3    8\n",
       "4    4    9"
      ]
     },
     "execution_count": 6,
     "metadata": {},
     "output_type": "execute_result"
    }
   ],
   "source": [
    "df = pd.DataFrame(data={'one': [0, 1, 2, 3, 4],\n",
    "                        'two': [5, 6, 7, 8, 9]})\n",
    "df"
   ]
  },
  {
   "cell_type": "code",
   "execution_count": 7,
   "metadata": {},
   "outputs": [],
   "source": [
    "# Changed in version 0.22.0: Earlier versions were not formatting the output \n",
    "# as Excel table\n",
    "view(df)"
   ]
  },
  {
   "cell_type": "code",
   "execution_count": 18,
   "metadata": {},
   "outputs": [],
   "source": [
    "# The load function\n",
    "# To load in a range in an Excel sheet as pandas DataFrame, use the load \n",
    "# function. If you only select one cell, it will auto-expand to cover the \n",
    "# range. If, however, you select a specific range that is bigger than one \n",
    "# cell, it will load in only the selected cells. If the data in Excel does \n",
    "# not have an index or header, set them to False like this: \n",
    "# xw.load(index=False), see also load.\n",
    "# New in version 0.22.0.\n",
    "\n",
    "from xlwings import load"
   ]
  },
  {
   "cell_type": "code",
   "execution_count": 19,
   "metadata": {},
   "outputs": [
    {
     "ename": "XlwingsError",
     "evalue": "Couldn't find any active App!",
     "output_type": "error",
     "traceback": [
      "\u001b[1;31m---------------------------------------------------------------------------\u001b[0m",
      "\u001b[1;31mXlwingsError\u001b[0m                              Traceback (most recent call last)",
      "Cell \u001b[1;32mIn[19], line 1\u001b[0m\n\u001b[1;32m----> 1\u001b[0m load(\u001b[39m\"\u001b[39;49m\u001b[39mH:\u001b[39;49m\u001b[39m\\\\\u001b[39;49;00m\u001b[39mProjects\u001b[39;49m\u001b[39m\\\\\u001b[39;49;00m\u001b[39mJupyter Notebooks\u001b[39;49m\u001b[39m\\\\\u001b[39;49;00m\u001b[39mExercise Files\u001b[39;49m\u001b[39m\\\\\u001b[39;49;00m\u001b[39mFinal Files\u001b[39;49m\u001b[39m\\\\\u001b[39;49;00m\u001b[39mmodule_01\u001b[39;49m\u001b[39m\\\\\u001b[39;49;00m\u001b[39m01_03_demo\u001b[39;49m\u001b[39m\\\\\u001b[39;49;00m\u001b[39mreturns.xlsx\u001b[39;49m\u001b[39m\"\u001b[39;49m)\n",
      "File \u001b[1;32m~\\AppData\\Roaming\\Python\\Python311\\site-packages\\xlwings\\main.py:4765\u001b[0m, in \u001b[0;36mload\u001b[1;34m(index, header, chunksize)\u001b[0m\n\u001b[0;32m   4732\u001b[0m \u001b[39mdef\u001b[39;00m \u001b[39mload\u001b[39m(index\u001b[39m=\u001b[39m\u001b[39m1\u001b[39m, header\u001b[39m=\u001b[39m\u001b[39m1\u001b[39m, chunksize\u001b[39m=\u001b[39m\u001b[39m5000\u001b[39m):\n\u001b[0;32m   4733\u001b[0m \u001b[39m    \u001b[39m\u001b[39m\"\"\"\u001b[39;00m\n\u001b[0;32m   4734\u001b[0m \u001b[39m    Loads the selected cell(s) of the active workbook into a pandas DataFrame. If you\u001b[39;00m\n\u001b[0;32m   4735\u001b[0m \u001b[39m    select a single cell that has adjacent cells, the range is auto-expanded (via\u001b[39;00m\n\u001b[1;32m   (...)\u001b[0m\n\u001b[0;32m   4763\u001b[0m \u001b[39m    .. versionchanged:: 0.23.1\u001b[39;00m\n\u001b[0;32m   4764\u001b[0m \u001b[39m    \"\"\"\u001b[39;00m\n\u001b[1;32m-> 4765\u001b[0m     selection \u001b[39m=\u001b[39m books\u001b[39m.\u001b[39;49mactive\u001b[39m.\u001b[39mselection\n\u001b[0;32m   4766\u001b[0m     \u001b[39mif\u001b[39;00m selection\u001b[39m.\u001b[39mshape \u001b[39m==\u001b[39m (\u001b[39m1\u001b[39m, \u001b[39m1\u001b[39m):\n\u001b[0;32m   4767\u001b[0m         selection \u001b[39m=\u001b[39m selection\u001b[39m.\u001b[39mcurrent_region\n",
      "File \u001b[1;32m~\\AppData\\Roaming\\Python\\Python311\\site-packages\\xlwings\\main.py:4997\u001b[0m, in \u001b[0;36mBooks.active\u001b[1;34m(self)\u001b[0m\n\u001b[0;32m   4992\u001b[0m \u001b[39m@property\u001b[39m\n\u001b[0;32m   4993\u001b[0m \u001b[39mdef\u001b[39;00m \u001b[39mactive\u001b[39m(\u001b[39mself\u001b[39m):\n\u001b[0;32m   4994\u001b[0m \u001b[39m    \u001b[39m\u001b[39m\"\"\"\u001b[39;00m\n\u001b[0;32m   4995\u001b[0m \u001b[39m    Returns the active Book.\u001b[39;00m\n\u001b[0;32m   4996\u001b[0m \u001b[39m    \"\"\"\u001b[39;00m\n\u001b[1;32m-> 4997\u001b[0m     \u001b[39mreturn\u001b[39;00m Book(impl\u001b[39m=\u001b[39m\u001b[39mself\u001b[39;49m\u001b[39m.\u001b[39;49mimpl\u001b[39m.\u001b[39mactive)\n",
      "File \u001b[1;32m~\\AppData\\Roaming\\Python\\Python311\\site-packages\\xlwings\\main.py:5183\u001b[0m, in \u001b[0;36mActiveAppBooks.impl\u001b[1;34m(self)\u001b[0m\n\u001b[0;32m   5180\u001b[0m \u001b[39m@property\u001b[39m\n\u001b[0;32m   5181\u001b[0m \u001b[39mdef\u001b[39;00m \u001b[39mimpl\u001b[39m(\u001b[39mself\u001b[39m):\n\u001b[0;32m   5182\u001b[0m     \u001b[39mif\u001b[39;00m \u001b[39mnot\u001b[39;00m apps:\n\u001b[1;32m-> 5183\u001b[0m         \u001b[39mraise\u001b[39;00m XlwingsError(\u001b[39m\"\u001b[39m\u001b[39mCouldn\u001b[39m\u001b[39m'\u001b[39m\u001b[39mt find any active App!\u001b[39m\u001b[39m\"\u001b[39m)\n\u001b[0;32m   5184\u001b[0m     \u001b[39mreturn\u001b[39;00m apps\u001b[39m.\u001b[39mactive\u001b[39m.\u001b[39mbooks\u001b[39m.\u001b[39mimpl\n",
      "\u001b[1;31mXlwingsError\u001b[0m: Couldn't find any active App!"
     ]
    }
   ],
   "source": [
    "load(\"H:\\\\Projects\\\\Jupyter Notebooks\\\\Exercise Files\\\\Final Files\\\\module_01\\\\01_03_demo\\\\returns.xlsx\")"
   ]
  }
 ],
 "metadata": {
  "kernelspec": {
   "display_name": "Python 3",
   "language": "python",
   "name": "python3"
  },
  "language_info": {
   "codemirror_mode": {
    "name": "ipython",
    "version": 3
   },
   "file_extension": ".py",
   "mimetype": "text/x-python",
   "name": "python",
   "nbconvert_exporter": "python",
   "pygments_lexer": "ipython3",
   "version": "3.11.0"
  },
  "orig_nbformat": 4
 },
 "nbformat": 4,
 "nbformat_minor": 2
}
