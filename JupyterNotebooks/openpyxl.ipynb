{
 "cells": [
  {
   "cell_type": "markdown",
   "metadata": {},
   "source": [
    "# openpyxl\n",
    "\n",
    "A Python library to read/write Excel 2010 xlsx/xlsm files\n",
    "\n",
    "## Introduction\n",
    "\n",
    "openpyxl is a Python library to read/write Excel 2010 xlsx/xlsm/xltx/xltm files.\n",
    "\n",
    "It was born from lack of existing library to read/write natively from Python the Office Open XML format.\n",
    "\n",
    "All kudos to the PHPExcel team as openpyxl was initially based on PHPExel.\n",
    "\n",
    "## Security\n",
    "\n",
    "By default openpyxl does not guard against quadratic blowup or billion laughs xml attacks. To guard against these attacks intall defusedxml."
   ]
  },
  {
   "cell_type": "code",
   "execution_count": 1,
   "metadata": {},
   "outputs": [],
   "source": [
    "# Sample code\n",
    "\n",
    "from openpyxl import Workbook\n",
    "wb = Workbook()\n",
    "\n",
    "# grab the active worksheet\n",
    "ws = wb.active\n",
    "\n",
    "# Data can be assigned directly to cells\n",
    "ws['A1'] = 42"
   ]
  },
  {
   "cell_type": "code",
   "execution_count": 2,
   "metadata": {},
   "outputs": [],
   "source": [
    "# Rows can also be appended\n",
    "ws.append([1, 2, 3])"
   ]
  },
  {
   "cell_type": "code",
   "execution_count": 3,
   "metadata": {},
   "outputs": [],
   "source": [
    "# Python types will automatically be converted\n",
    "import datetime\n",
    "ws['A2'] = datetime.datetime.now()"
   ]
  },
  {
   "cell_type": "code",
   "execution_count": null,
   "metadata": {},
   "outputs": [],
   "source": [
    "# Save the file\n",
    "wb.save(r'H:\\Projects\\ExcelPython\\openpyxl-test.xlsx')"
   ]
  },
  {
   "cell_type": "code",
   "execution_count": null,
   "metadata": {},
   "outputs": [],
   "source": [
    "wb.save(r'D:\\Projects\\ExcelPython\\openpyxl-test.xlsx')"
   ]
  },
  {
   "cell_type": "markdown",
   "metadata": {},
   "source": [
    "## Tutorial"
   ]
  },
  {
   "cell_type": "code",
   "execution_count": 11,
   "metadata": {},
   "outputs": [],
   "source": [
    "# Create a workbook\n",
    "# There is no need to create a file on the filesystem to get started with openpyxl.\n",
    "# Just import the Workbook class and start work\n",
    "\n",
    "from openpyxl import Workbook\n",
    "wb = Workbook()"
   ]
  },
  {
   "cell_type": "code",
   "execution_count": 12,
   "metadata": {},
   "outputs": [],
   "source": [
    "# A workbook is always created with at least one worksheet.\n",
    "# You can get it by using the Workbook.active property\n",
    "\n",
    "ws = wb.active\n",
    "\n",
    "# This is set to 0 by default. Unless you modify its value, \n",
    "# you will always get the first worksheet by using this method."
   ]
  },
  {
   "cell_type": "code",
   "execution_count": 13,
   "metadata": {},
   "outputs": [],
   "source": [
    "# You can create new worksheets using the Workbook.create_sheet() method\n",
    "\n",
    "# insert at the end (default)\n",
    "ws1 = wb.create_sheet(\"Mysheet\")"
   ]
  },
  {
   "cell_type": "code",
   "execution_count": 14,
   "metadata": {},
   "outputs": [],
   "source": [
    "# insert at first position\n",
    "ws2 = wb.create_sheet(\"Mysheet1\", 0)"
   ]
  },
  {
   "cell_type": "code",
   "execution_count": 15,
   "metadata": {},
   "outputs": [],
   "source": [
    "# insert at the penultimate position\n",
    "ws3 = wb.create_sheet(\"Mysheet2\", -1)"
   ]
  },
  {
   "cell_type": "code",
   "execution_count": 16,
   "metadata": {},
   "outputs": [],
   "source": [
    "# Sheets are given a name automatically when they are created.\n",
    "# They are numbered in sequence (Sheet, Sheet1, Sheet2, ...).\n",
    "# You can change this name at any time with the Worksheet.title property\n",
    "\n",
    "ws.title = \"New Title\""
   ]
  },
  {
   "cell_type": "code",
   "execution_count": 17,
   "metadata": {},
   "outputs": [],
   "source": [
    "# Once you gave a worksheet a name, you can get it as a key of the workbook\n",
    "\n",
    "ws3 = wb[\"New Title\"]"
   ]
  },
  {
   "cell_type": "code",
   "execution_count": 18,
   "metadata": {},
   "outputs": [
    {
     "name": "stdout",
     "output_type": "stream",
     "text": [
      "['Mysheet1', 'New Title', 'Mysheet2', 'Mysheet']\n"
     ]
    }
   ],
   "source": [
    "# You can review the names of all worksheets of the workbook with the Workbook.sheetname attribute\n",
    "\n",
    "print(wb.sheetnames)"
   ]
  },
  {
   "cell_type": "code",
   "execution_count": 19,
   "metadata": {},
   "outputs": [
    {
     "name": "stdout",
     "output_type": "stream",
     "text": [
      "Mysheet1\n",
      "New Title\n",
      "Mysheet2\n",
      "Mysheet\n"
     ]
    }
   ],
   "source": [
    "# You can loop through worksheets\n",
    "\n",
    "for sheet in wb:\n",
    "    print(sheet.title)"
   ]
  },
  {
   "cell_type": "code",
   "execution_count": 20,
   "metadata": {},
   "outputs": [],
   "source": [
    "# You can create copies of worksheets within a single workbook\n",
    "# Workbook.copy_worksheet() method\n",
    "\n",
    "source = wb.active\n",
    "target = wb.copy_worksheet(source)\n",
    "\n",
    "# Only cells (including values, styles, hyperlinks and comments) \n",
    "# and certain worksheet attributes (including dimensions, format \n",
    "# and propterties) are copied. All other workbook / worksheet \n",
    "# attributes are not copied - e.g. Images, Charts.\n",
    "# You also cannot copy worksheets between workbooks. You \n",
    "# cannot copy a worksheet if the workbook is open in read-only \n",
    "# or write-only mode."
   ]
  },
  {
   "cell_type": "code",
   "execution_count": 21,
   "metadata": {},
   "outputs": [],
   "source": [
    "wb.save(r'H:\\Projects\\ExcelPython\\openpyxl-test.xlsx')"
   ]
  },
  {
   "cell_type": "code",
   "execution_count": 7,
   "metadata": {},
   "outputs": [],
   "source": [
    "wb.save(r'D:\\Projects\\ExcelPython\\openpyxl-test.xlsx')"
   ]
  },
  {
   "cell_type": "code",
   "execution_count": 22,
   "metadata": {},
   "outputs": [],
   "source": [
    "# Playing with data\n",
    "# Accessing one cell\n",
    "# Now we know how to get a worksheet, we can start modifying cells content.\n",
    "# Cells can be accessed directly as keys of the worksheet\n",
    "\n",
    "c = ws['A4']\n",
    "\n",
    "# This will return the cell at A4, or create one if it does not exist yet."
   ]
  },
  {
   "cell_type": "code",
   "execution_count": 23,
   "metadata": {},
   "outputs": [],
   "source": [
    "# Values can be directly assigned\n",
    "\n",
    "ws['A4'] = 4\n",
    "\n",
    "# There is also the Worksheet.cell() method."
   ]
  },
  {
   "cell_type": "code",
   "execution_count": null,
   "metadata": {},
   "outputs": [],
   "source": [
    "# This provides access to cells using row and columns notation\n",
    "\n",
    "d = ws.cell(row=4, column=2, value=10)\n",
    "\n",
    "# When a worksheet is created in memory, it contains no cells. \n",
    "# They are created when first accessed.\n",
    "# Because of this feature, scrolling through cells instead of \n",
    "# accessing them directly will create them all in memory, even \n",
    "# even if you don't assign them a value."
   ]
  },
  {
   "cell_type": "code",
   "execution_count": 9,
   "metadata": {},
   "outputs": [],
   "source": [
    "# Something like\n",
    "for x in range(1, 101):\n",
    "    for y in range(1, 101):\n",
    "        ws.cell(row=x, column=y)\n",
    "\n",
    "# will create 100x100 cells in memory, for nothing."
   ]
  },
  {
   "cell_type": "code",
   "execution_count": 10,
   "metadata": {},
   "outputs": [],
   "source": [
    "# Accessing many cells\n",
    "# Ranges of cells can be accessed using slicing\n",
    "cell_range = ws['A1':'C2']"
   ]
  },
  {
   "cell_type": "code",
   "execution_count": 11,
   "metadata": {},
   "outputs": [],
   "source": [
    "# Ranges of rows or columns can be obtained similarly\n",
    "colC = ws['C']\n",
    "col_range = ws['C:D']\n",
    "row10 = ws[10]\n",
    "row_range = ws[5:10]"
   ]
  },
  {
   "cell_type": "code",
   "execution_count": 13,
   "metadata": {},
   "outputs": [
    {
     "name": "stdout",
     "output_type": "stream",
     "text": [
      "<Cell 'Sheet'.A1>\n",
      "<Cell 'Sheet'.B1>\n",
      "<Cell 'Sheet'.C1>\n",
      "<Cell 'Sheet'.A2>\n",
      "<Cell 'Sheet'.B2>\n",
      "<Cell 'Sheet'.C2>\n"
     ]
    }
   ],
   "source": [
    "# You can also use the Worksheet.iter_rows() method\n",
    "for row in ws.iter_rows(min_row=1, max_col=3, max_row=2):\n",
    "    for cell in row:\n",
    "        print(cell)"
   ]
  },
  {
   "cell_type": "code",
   "execution_count": 14,
   "metadata": {},
   "outputs": [
    {
     "name": "stdout",
     "output_type": "stream",
     "text": [
      "<Cell 'Sheet'.A1>\n",
      "<Cell 'Sheet'.A2>\n",
      "<Cell 'Sheet'.B1>\n",
      "<Cell 'Sheet'.B2>\n",
      "<Cell 'Sheet'.C1>\n",
      "<Cell 'Sheet'.C2>\n"
     ]
    }
   ],
   "source": [
    "# Likewise the worksheet.iter_cols() method will return columns\n",
    "for col in ws.iter_cols(min_row=1, max_col=3, max_row=2):\n",
    "    for cell in col:\n",
    "        print(cell)\n",
    "\n",
    "# For performance reasons the Worksheet.iter_cols() method \n",
    "# is not available in read-only mode."
   ]
  },
  {
   "cell_type": "code",
   "execution_count": null,
   "metadata": {},
   "outputs": [],
   "source": [
    "# If you need to iterate through all the rows or columns of a file, \n",
    "# you can instead use the Worksheet.rows property\n",
    "\n",
    "ws = wb.active\n",
    "ws['C9'] = 'hellow world'\n",
    "tuple(ws.rows) # 输出结果与教程不一致？"
   ]
  },
  {
   "cell_type": "code",
   "execution_count": null,
   "metadata": {},
   "outputs": [],
   "source": [
    "# or the Worksheet.columns property\n",
    "\n",
    "tuple(ws.columns) # 输出结果与教程不一致？\n",
    "\n",
    "# For performance reasons the Worksheet.columns property \n",
    "# is not available in read-only mode."
   ]
  },
  {
   "cell_type": "markdown",
   "metadata": {},
   "source": [
    "## Simple usage\n",
    "\n",
    "### Example: Creating a simple spreadsheet and bar chart\n",
    "\n",
    "In this example we're going to create a sheet from scratch and add some data and then plot it. We'll also explore some limited cell style and formatting.\n",
    "\n",
    "The data we'll be entering on the sheet is bellow:\n",
    "\n",
    "Species | Leaf Color | Height (cm)\n",
    "--------|------------|--------------\n",
    "Maple | Red | 549\n",
    "Oak | Green | 783\n",
    "Pine | Green | 1204"
   ]
  },
  {
   "cell_type": "code",
   "execution_count": 1,
   "metadata": {},
   "outputs": [],
   "source": [
    "# To start, let's load in openpyxl and create a new workbook, \n",
    "# and get the active sheet. We'll also enter our tree data.\n",
    "\n",
    "from openpyxl import Workbook\n",
    "\n",
    "wb = Workbook()\n",
    "ws = wb.active\n",
    "treeData = [\n",
    "    [\"Type\", \"Leaf Color\", \"Height\"], \n",
    "    [\"Maple\", \"Red\", 549], \n",
    "    [\"Oak\", \"Green\", 783], \n",
    "    [\"Pine\", \"Green\", 1204]\n",
    "]\n",
    "\n",
    "for row in treeData:\n",
    "    ws.append(row)\n",
    "\n",
    "from openpyxl.styles import Font\n",
    "\n",
    "ft = Font(bold=True)\n",
    "for row in ws[\"A1:C1\"]:\n",
    "    for cell in row:\n",
    "        cell.font = ft\n",
    "        \n",
    "from openpyxl.chart import BarChart, Series, Reference\n",
    "\n",
    "chart = BarChart()\n",
    "chart.type = \"col\"\n",
    "chart.title = \"Tree Height\"\n",
    "chart.y_axis.title = 'Height (cm)'\n",
    "chart.x_axis.title = 'Tree Type'\n",
    "chart.legend = None\n",
    "\n",
    "data = Reference(ws, min_col=3, min_row=2, max_row=4, max_col=3)\n",
    "categories = Reference(ws, min_col=1, min_row=2, max_row=4, max_col=1)\n",
    "\n",
    "chart.add_data(data)\n",
    "chart.set_categories(categories)\n",
    "\n",
    "ws.add_chart(chart, \"E1\")\n",
    "wb.save(r'D:\\Projects\\ExcelPython\\TreeData.xlsx')"
   ]
  }
 ],
 "metadata": {
  "kernelspec": {
   "display_name": "Python 3.12.0",
   "language": "python",
   "name": "python3"
  },
  "language_info": {
   "codemirror_mode": {
    "name": "ipython",
    "version": 3
   },
   "file_extension": ".py",
   "mimetype": "text/x-python",
   "name": "python",
   "nbconvert_exporter": "python",
   "pygments_lexer": "ipython3",
   "version": "3.12.0"
  },
  "orig_nbformat": 4,
  "vscode": {
   "interpreter": {
    "hash": "b7d95581a9aa63a5fe7f1908a1c19e234a4a2c79744070fac2310fae24445a79"
   }
  }
 },
 "nbformat": 4,
 "nbformat_minor": 2
}
