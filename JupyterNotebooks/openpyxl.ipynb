{
 "cells": [
  {
   "cell_type": "markdown",
   "metadata": {},
   "source": []
  },
  {
   "cell_type": "code",
   "execution_count": 1,
   "metadata": {},
   "outputs": [],
   "source": [
    "# Example: Creating a simple spreadsheet and bar chart\n",
    "\n",
    "from openpyxl import Workbook\n",
    "\n",
    "wb = Workbook()\n",
    "ws = wb.active\n",
    "treeData = [\n",
    "    [\"Type\", \"Leaf Color\", \"Height\"], \n",
    "    [\"Maple\", \"Red\", 549], \n",
    "    [\"Oak\", \"Green\", 783], \n",
    "    [\"Pine\", \"Green\", 1204]\n",
    "]\n",
    "\n",
    "for row in treeData:\n",
    "    ws.append(row)\n",
    "\n",
    "from openpyxl.styles import Font\n",
    "\n",
    "ft = Font(bold=True)\n",
    "for row in ws[\"A1:C1\"]:\n",
    "    for cell in row:\n",
    "        cell.font = ft\n",
    "        \n",
    "from openpyxl.chart import BarChart, Series, Reference\n",
    "\n",
    "chart = BarChart()\n",
    "chart.type = \"col\"\n",
    "chart.title = \"Tree Height\"\n",
    "chart.y_axis.title = 'Height (cm)'\n",
    "chart.x_axis.title = 'Tree Type'\n",
    "chart.legend = None\n",
    "\n",
    "data = Reference(ws, min_col=3, min_row=2, max_row=4, max_col=3)\n",
    "categories = Reference(ws, min_col=1, min_row=2, max_row=4, max_col=1)\n",
    "\n",
    "chart.add_data(data)\n",
    "chart.set_categories(categories)\n",
    "\n",
    "ws.add_chart(chart, \"E1\")\n",
    "wb.save(\"TreeData.xlsx\")"
   ]
  }
 ],
 "metadata": {
  "kernelspec": {
   "display_name": "Python 3.11.0 64-bit",
   "language": "python",
   "name": "python3"
  },
  "language_info": {
   "codemirror_mode": {
    "name": "ipython",
    "version": 3
   },
   "file_extension": ".py",
   "mimetype": "text/x-python",
   "name": "python",
   "nbconvert_exporter": "python",
   "pygments_lexer": "ipython3",
   "version": "3.11.0"
  },
  "orig_nbformat": 4,
  "vscode": {
   "interpreter": {
    "hash": "1cd0f3bc60b26526d5fb364e6dc582bcbd1d2808e8f020a367cb16b7dd6bbbab"
   }
  }
 },
 "nbformat": 4,
 "nbformat_minor": 2
}
